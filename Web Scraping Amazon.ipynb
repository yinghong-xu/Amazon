{
 "cells": [
  {
   "cell_type": "markdown",
   "metadata": {},
   "source": [
    "# Web Scraping Amazon\n",
    "\n",
    "## Yinghong Xu"
   ]
  },
  {
   "cell_type": "code",
   "execution_count": 2,
   "metadata": {
    "scrolled": true
   },
   "outputs": [
    {
     "ename": "SyntaxError",
     "evalue": "invalid syntax (<ipython-input-2-219163a83d1d>, line 1)",
     "output_type": "error",
     "traceback": [
      "\u001b[1;36m  File \u001b[1;32m\"<ipython-input-2-219163a83d1d>\"\u001b[1;36m, line \u001b[1;32m1\u001b[0m\n\u001b[1;33m    ipython nbconvert to HTML your_notebook.ipynb\u001b[0m\n\u001b[1;37m                    ^\u001b[0m\n\u001b[1;31mSyntaxError\u001b[0m\u001b[1;31m:\u001b[0m invalid syntax\n"
     ]
    }
   ],
   "source": [
    "ipython nbconvert to HTML your_notebook.ipynb"
   ]
  },
  {
   "cell_type": "code",
   "execution_count": 123,
   "metadata": {},
   "outputs": [],
   "source": [
    "from bs4 import BeautifulSoup as soup\n",
    "from urllib.request import urlopen as uReq\n",
    "import pandas as pd\n",
    "import numpy as np"
   ]
  },
  {
   "cell_type": "code",
   "execution_count": 151,
   "metadata": {},
   "outputs": [],
   "source": [
    "from sklearn.linear_model import LinearRegression\n",
    "from sklearn.metrics import r2_score\n",
    "import statsmodels.api as sm\n",
    "\n",
    "from sklearn.model_selection import train_test_split"
   ]
  },
  {
   "cell_type": "code",
   "execution_count": 110,
   "metadata": {
    "scrolled": false
   },
   "outputs": [
    {
     "name": "stdout",
     "output_type": "stream",
     "text": [
      "['Unisex Face Shield, Black (Pack of 8 w/ 45 Filters)', '#1', 'https://www.amazon.com/Washable-Protective-seilliet-Reusable-Breathable/dp/B086R68WWQ?_encoding=UTF8&psc=1', '', '', '']\n"
     ]
    }
   ],
   "source": [
    "# my_url='https://www.amazon.com/Best-Sellers-Sports-Outdoors/zgbs/sporting-goods/ref=zg_bs_pg_1?_encoding=UTF8&pg=1'\n",
    "\n",
    "# uClient=uReq(my_url)\n",
    "# page_html=uClient.read()\n",
    "# uClient.close()\n",
    "# page_soup=soup(page_html, \"html.parser\")\n",
    "# containers = page_soup.findAll(\"span\", {\"class\":\"aok-inline-block zg-item\"\n",
    "# price=page_soup.findAll(\"span\", {\"class\":\"p13n-sc-price\"})[1]\n",
    "\n",
    "# Generate Data from Amazon\n",
    "products={}\n",
    "prd_no=0\n",
    "\n",
    "urls=[]\n",
    "for page in range(3):\n",
    "    urls.append('https://www.amazon.com/Best-Sellers-Sports-Outdoors/zgbs/sporting-goods/ref=zg_bs_pg_{}?_encoding=UTF8&pg={}'.format(page, page))\n",
    "page=urls[1:]\n",
    "\n",
    "for p in page:\n",
    "    uClient=uReq(p)\n",
    "    page_html=uClient.read()\n",
    "    uClient.close()\n",
    "    page_soup=soup(page_html, \"html.parser\")\n",
    "    containers= page_soup.findAll(\"div\",{\"class\":\"a-section a-spacing-none aok-relative\"})\n",
    "         \n",
    "    for container in containers:\n",
    "        #product_name=container.div.img[\"alt\"].replace(\",\" , \"|\")\n",
    "        \n",
    "        product_name=container.findAll(\"div\", {\"class\": \"a-section a-spacing-small\"})[0].img[\"alt\"]\n",
    "        link_container=container.findAll(\"a\", {\"class\":\"a-link-normal\"})[0][\"href\"]\n",
    "        preflix=\"https://www.amazon.com\"\n",
    "        link=preflix+link_container\n",
    "        \n",
    "        #price\n",
    "        if container.findAll(\"span\", {\"class\":\"p13n-sc-price\"}):\n",
    "            price=container.findAll(\"span\", {\"class\":\"p13n-sc-price\"})[0].text\n",
    "        else:\n",
    "            price=\"\"\n",
    "            \n",
    "        #rating\n",
    "        if container.findAll(\"span\", {\"class\":\"a-icon-alt\"}):\n",
    "            rating=container.findAll(\"span\", {\"class\":\"a-icon-alt\"})[0].text\n",
    "        else:\n",
    "            rating=\"\"\n",
    "\n",
    "        #reviews\n",
    "        if container.findAll(\"a\", {\"class\":\"a-size-small a-link-normal\"}):\n",
    "            reviews=container.findAll(\"a\", {\"class\":\"a-size-small a-link-normal\"})[0].text\n",
    "        else:\n",
    "            reviews=\"\"\n",
    "            \n",
    "        #rank\n",
    "        rank=container.findAll(\"span\", {\"class\":\"zg-badge-text\"})[0].text\n",
    "        \n",
    "        prd_no+=1\n",
    "        products[prd_no]=[product_name, rank, link, price, rating, reviews]\n",
    "#         print(\"Product name: \"+product_name)\n",
    "#         print(\"Product link: \"+ link)\n",
    "#         print(\"price: \"+ price)\n",
    "#         print(\"Rating: \"+rating)\n",
    "#         print(\"Reviews:\"+reviews)\n",
    "   \n",
    "print(products[1])\n"
   ]
  },
  {
   "cell_type": "code",
   "execution_count": 111,
   "metadata": {},
   "outputs": [
    {
     "data": {
      "text/plain": [
       "100"
      ]
     },
     "execution_count": 111,
     "metadata": {},
     "output_type": "execute_result"
    }
   ],
   "source": [
    "prd_no"
   ]
  },
  {
   "cell_type": "code",
   "execution_count": 115,
   "metadata": {},
   "outputs": [
    {
     "data": {
      "text/html": [
       "<div>\n",
       "<style scoped>\n",
       "    .dataframe tbody tr th:only-of-type {\n",
       "        vertical-align: middle;\n",
       "    }\n",
       "\n",
       "    .dataframe tbody tr th {\n",
       "        vertical-align: top;\n",
       "    }\n",
       "\n",
       "    .dataframe thead th {\n",
       "        text-align: right;\n",
       "    }\n",
       "</style>\n",
       "<table border=\"1\" class=\"dataframe\">\n",
       "  <thead>\n",
       "    <tr style=\"text-align: right;\">\n",
       "      <th></th>\n",
       "      <th>product_name</th>\n",
       "      <th>rank</th>\n",
       "      <th>link</th>\n",
       "      <th>price</th>\n",
       "      <th>rating</th>\n",
       "      <th>reviews</th>\n",
       "    </tr>\n",
       "  </thead>\n",
       "  <tbody>\n",
       "    <tr>\n",
       "      <th>1</th>\n",
       "      <td>Unisex Face Shield, Black (Pack of 8 w/ 45 Fil...</td>\n",
       "      <td>#1</td>\n",
       "      <td>https://www.amazon.com/Washable-Protective-sei...</td>\n",
       "      <td></td>\n",
       "      <td></td>\n",
       "      <td></td>\n",
       "    </tr>\n",
       "    <tr>\n",
       "      <th>2</th>\n",
       "      <td>Letsfit Resistance Loop Bands, Resistance Exer...</td>\n",
       "      <td>#2</td>\n",
       "      <td>https://www.amazon.com/Letsfit-Resistance-Exer...</td>\n",
       "      <td>$17.85</td>\n",
       "      <td>4.5 out of 5 stars</td>\n",
       "      <td>7,743</td>\n",
       "    </tr>\n",
       "    <tr>\n",
       "      <th>3</th>\n",
       "      <td>CoolBELL Mouth Protective 3-Ply Wearing Face C...</td>\n",
       "      <td>#3</td>\n",
       "      <td>https://www.amazon.com/CoolBELL-Protective-Wea...</td>\n",
       "      <td>$9.99</td>\n",
       "      <td></td>\n",
       "      <td></td>\n",
       "    </tr>\n",
       "    <tr>\n",
       "      <th>4</th>\n",
       "      <td>Fit Simplify Resistance Loop Exercise Bands wi...</td>\n",
       "      <td>#4</td>\n",
       "      <td>https://www.amazon.com/Fit-Simplify-Resistance...</td>\n",
       "      <td>$17.85</td>\n",
       "      <td>4.3 out of 5 stars</td>\n",
       "      <td>17,298</td>\n",
       "    </tr>\n",
       "    <tr>\n",
       "      <th>5</th>\n",
       "      <td>Gaiam Essentials Premium Yoga Mat with Yoga Ma...</td>\n",
       "      <td>#5</td>\n",
       "      <td>https://www.amazon.com/Gaiam-Essentials-Premiu...</td>\n",
       "      <td>$20.28</td>\n",
       "      <td>4.6 out of 5 stars</td>\n",
       "      <td>1,086</td>\n",
       "    </tr>\n",
       "  </tbody>\n",
       "</table>\n",
       "</div>"
      ],
      "text/plain": [
       "                                        product_name rank  \\\n",
       "1  Unisex Face Shield, Black (Pack of 8 w/ 45 Fil...   #1   \n",
       "2  Letsfit Resistance Loop Bands, Resistance Exer...   #2   \n",
       "3  CoolBELL Mouth Protective 3-Ply Wearing Face C...   #3   \n",
       "4  Fit Simplify Resistance Loop Exercise Bands wi...   #4   \n",
       "5  Gaiam Essentials Premium Yoga Mat with Yoga Ma...   #5   \n",
       "\n",
       "                                                link   price  \\\n",
       "1  https://www.amazon.com/Washable-Protective-sei...           \n",
       "2  https://www.amazon.com/Letsfit-Resistance-Exer...  $17.85   \n",
       "3  https://www.amazon.com/CoolBELL-Protective-Wea...   $9.99   \n",
       "4  https://www.amazon.com/Fit-Simplify-Resistance...  $17.85   \n",
       "5  https://www.amazon.com/Gaiam-Essentials-Premiu...  $20.28   \n",
       "\n",
       "               rating reviews  \n",
       "1                              \n",
       "2  4.5 out of 5 stars   7,743  \n",
       "3                              \n",
       "4  4.3 out of 5 stars  17,298  \n",
       "5  4.6 out of 5 stars   1,086  "
      ]
     },
     "execution_count": 115,
     "metadata": {},
     "output_type": "execute_result"
    }
   ],
   "source": [
    "products_df=pd.DataFrame.from_dict(products, orient='index', columns=['product_name', 'rank', 'link', 'price', 'rating', 'reviews'])\n",
    "products_df.head()"
   ]
  },
  {
   "cell_type": "code",
   "execution_count": 116,
   "metadata": {},
   "outputs": [],
   "source": [
    "products_df.to_csv('prds.csv')"
   ]
  },
  {
   "cell_type": "code",
   "execution_count": 117,
   "metadata": {},
   "outputs": [],
   "source": [
    "import findspark\n",
    "findspark.init()"
   ]
  },
  {
   "cell_type": "code",
   "execution_count": 118,
   "metadata": {},
   "outputs": [],
   "source": [
    "from pyspark.sql import SparkSession\n",
    "ss = SparkSession.builder.master(\"local\") .appName(\"Word Count\") .getOrCreate()"
   ]
  },
  {
   "cell_type": "code",
   "execution_count": 119,
   "metadata": {},
   "outputs": [],
   "source": [
    "from pyspark.ml import Pipeline\n",
    "from pyspark.ml.feature import CountVectorizer\n",
    "from pyspark.ml.feature import HashingTF, IDF, Tokenizer"
   ]
  },
  {
   "cell_type": "code",
   "execution_count": 120,
   "metadata": {},
   "outputs": [],
   "source": [
    "%matplotlib inline\n",
    "import matplotlib.pyplot as plt"
   ]
  },
  {
   "cell_type": "code",
   "execution_count": 125,
   "metadata": {},
   "outputs": [],
   "source": [
    "df=pd.read_csv('prds.csv')"
   ]
  },
  {
   "cell_type": "code",
   "execution_count": 130,
   "metadata": {},
   "outputs": [
    {
     "data": {
      "text/html": [
       "<div>\n",
       "<style scoped>\n",
       "    .dataframe tbody tr th:only-of-type {\n",
       "        vertical-align: middle;\n",
       "    }\n",
       "\n",
       "    .dataframe tbody tr th {\n",
       "        vertical-align: top;\n",
       "    }\n",
       "\n",
       "    .dataframe thead th {\n",
       "        text-align: right;\n",
       "    }\n",
       "</style>\n",
       "<table border=\"1\" class=\"dataframe\">\n",
       "  <thead>\n",
       "    <tr style=\"text-align: right;\">\n",
       "      <th></th>\n",
       "      <th>Unnamed: 0</th>\n",
       "      <th>product_name</th>\n",
       "      <th>rank</th>\n",
       "      <th>price</th>\n",
       "      <th>rating</th>\n",
       "      <th>reviews</th>\n",
       "      <th>name</th>\n",
       "    </tr>\n",
       "  </thead>\n",
       "  <tbody>\n",
       "    <tr>\n",
       "      <th>0</th>\n",
       "      <td>1</td>\n",
       "      <td>Unisex Face Shield, Black (Pack of 8 w/ 45 Fil...</td>\n",
       "      <td>1</td>\n",
       "      <td>NaN</td>\n",
       "      <td>NaN</td>\n",
       "      <td>NaN</td>\n",
       "      <td>washable protective seilliet reusable breathable</td>\n",
       "    </tr>\n",
       "    <tr>\n",
       "      <th>1</th>\n",
       "      <td>2</td>\n",
       "      <td>Letsfit Resistance Loop Bands, Resistance Exer...</td>\n",
       "      <td>2</td>\n",
       "      <td>17.85</td>\n",
       "      <td>4.5</td>\n",
       "      <td>7,743</td>\n",
       "      <td>letsfit resistance exercise stretching strength</td>\n",
       "    </tr>\n",
       "    <tr>\n",
       "      <th>2</th>\n",
       "      <td>3</td>\n",
       "      <td>CoolBELL Mouth Protective 3-Ply Wearing Face C...</td>\n",
       "      <td>3</td>\n",
       "      <td>9.99</td>\n",
       "      <td>NaN</td>\n",
       "      <td>NaN</td>\n",
       "      <td>coolbell protective wearing comfortable breathing</td>\n",
       "    </tr>\n",
       "    <tr>\n",
       "      <th>3</th>\n",
       "      <td>4</td>\n",
       "      <td>Fit Simplify Resistance Loop Exercise Bands wi...</td>\n",
       "      <td>4</td>\n",
       "      <td>17.85</td>\n",
       "      <td>4.3</td>\n",
       "      <td>17,298</td>\n",
       "      <td>fit simplify resistance exercise instruction</td>\n",
       "    </tr>\n",
       "    <tr>\n",
       "      <th>4</th>\n",
       "      <td>5</td>\n",
       "      <td>Gaiam Essentials Premium Yoga Mat with Yoga Ma...</td>\n",
       "      <td>5</td>\n",
       "      <td>20.28</td>\n",
       "      <td>4.6</td>\n",
       "      <td>1,086</td>\n",
       "      <td>gaiam essentials premium carrier sling</td>\n",
       "    </tr>\n",
       "  </tbody>\n",
       "</table>\n",
       "</div>"
      ],
      "text/plain": [
       "   Unnamed: 0                                       product_name rank  price  \\\n",
       "0           1  Unisex Face Shield, Black (Pack of 8 w/ 45 Fil...    1    NaN   \n",
       "1           2  Letsfit Resistance Loop Bands, Resistance Exer...    2  17.85   \n",
       "2           3  CoolBELL Mouth Protective 3-Ply Wearing Face C...    3   9.99   \n",
       "3           4  Fit Simplify Resistance Loop Exercise Bands wi...    4  17.85   \n",
       "4           5  Gaiam Essentials Premium Yoga Mat with Yoga Ma...    5  20.28   \n",
       "\n",
       "  rating reviews                                               name  \n",
       "0    NaN     NaN   washable protective seilliet reusable breathable  \n",
       "1    4.5   7,743    letsfit resistance exercise stretching strength  \n",
       "2    NaN     NaN  coolbell protective wearing comfortable breathing  \n",
       "3    4.3  17,298       fit simplify resistance exercise instruction  \n",
       "4    4.6   1,086             gaiam essentials premium carrier sling  "
      ]
     },
     "execution_count": 130,
     "metadata": {},
     "output_type": "execute_result"
    }
   ],
   "source": [
    "# Clean data\n",
    "\n",
    "df['rank']=df['rank'].str.strip('#')\n",
    "df.price=df.price.str.strip('$')\n",
    "\n",
    "tdf=df.rating.str.split(' ', expand=True)[0]\n",
    "df.rating=tdf\n",
    "\n",
    "tdf=df.link.str.split('/', expand=True)[3]\n",
    "df['name']=tdf\n",
    "\n",
    "#df.head()\n",
    "\n",
    "df1=df.drop('link', axis=1)\n",
    "\n",
    "\n",
    "df1['name']=df1['name'].str.lower().str.replace('-',' ')\n",
    "df1['name']=df1['name'].str.replace('%',' ')\n",
    "\n",
    "# sdf=ss.createDataFrame(df[['']])\n",
    "# sdf.head()\n",
    "\n",
    "# df1.to_csv('df1.csv')\n",
    "df1.head()"
   ]
  },
  {
   "cell_type": "code",
   "execution_count": 132,
   "metadata": {},
   "outputs": [
    {
     "data": {
      "text/plain": [
       "Row(rank='1', name='washable protective seilliet reusable breathable')"
      ]
     },
     "execution_count": 132,
     "metadata": {},
     "output_type": "execute_result"
    }
   ],
   "source": [
    "sdf=ss.createDataFrame(df1[['rank','name']])\n",
    "sdf.head()"
   ]
  },
  {
   "cell_type": "code",
   "execution_count": 133,
   "metadata": {},
   "outputs": [],
   "source": [
    "tokenizer = Tokenizer(inputCol=\"name\", outputCol=\"words\")\n",
    "vectorizer = CountVectorizer(inputCol=\"words\", outputCol=\"rawFeatures\")"
   ]
  },
  {
   "cell_type": "code",
   "execution_count": 134,
   "metadata": {},
   "outputs": [],
   "source": [
    "pipeline = Pipeline(stages=[tokenizer, vectorizer])\n",
    "\n",
    "model = pipeline.fit(sdf)"
   ]
  },
  {
   "cell_type": "code",
   "execution_count": 135,
   "metadata": {
    "scrolled": true
   },
   "outputs": [
    {
     "name": "stdout",
     "output_type": "stream",
     "text": [
      "+----+--------------------+--------------------+--------------------+\n",
      "|rank|                name|               words|         rawFeatures|\n",
      "+----+--------------------+--------------------+--------------------+\n",
      "|   1|washable protecti...|[washable, protec...|(334,[50,75,217,2...|\n",
      "|   2|letsfit resistanc...|[letsfit, resista...|(334,[0,1,44,173,...|\n",
      "|   3|coolbell protecti...|[coolbell, protec...|(334,[50,114,127,...|\n",
      "|   4|fit simplify resi...|[fit, simplify, r...|(334,[0,1,74,143,...|\n",
      "|   5|gaiam essentials ...|[gaiam, essential...|(334,[22,33,35,18...|\n",
      "+----+--------------------+--------------------+--------------------+\n",
      "only showing top 5 rows\n",
      "\n"
     ]
    }
   ],
   "source": [
    "t_vectors = model.transform(sdf)\n",
    "t_vectors.show(5)"
   ]
  },
  {
   "cell_type": "code",
   "execution_count": 136,
   "metadata": {},
   "outputs": [
    {
     "data": {
      "text/plain": [
       "(334,)"
      ]
     },
     "execution_count": 136,
     "metadata": {},
     "output_type": "execute_result"
    }
   ],
   "source": [
    "sparce_vectors=t_vectors.select('rawFeatures').rdd\\\n",
    ".map(lambda row: row['rawFeatures'].toArray()) #\\\n",
    "sparce_vectors.take(1)[0].shape"
   ]
  },
  {
   "cell_type": "code",
   "execution_count": 137,
   "metadata": {},
   "outputs": [],
   "source": [
    "total_counts=sparce_vectors.reduce(lambda x,y: [x[i]+y[i] for i in range(len(y))])\n",
    "vocabList = model.stages[1].vocabulary\n",
    "d = {'vocabList':vocabList,'counts':total_counts}"
   ]
  },
  {
   "cell_type": "code",
   "execution_count": 135,
   "metadata": {},
   "outputs": [],
   "source": [
    "# Pyspark word counts"
   ]
  },
  {
   "cell_type": "code",
   "execution_count": 138,
   "metadata": {},
   "outputs": [
    {
     "data": {
      "text/plain": [
       "(array([ 0,  1,  2,  3,  4,  5,  6,  7,  8,  9, 10, 11, 12, 13, 14, 15, 16,\n",
       "        17, 18, 19]), <a list of 20 Text xticklabel objects>)"
      ]
     },
     "execution_count": 138,
     "metadata": {},
     "output_type": "execute_result"
    },
    {
     "data": {
      "image/png": "[encoded data removed]",
      "text/plain": [
       "<Figure size 432x288 with 1 Axes>"
      ]
     },
     "metadata": {
      "needs_background": "light"
     },
     "output_type": "display_data"
    }
   ],
   "source": [
    "ddf=pd.DataFrame(d).set_index('vocabList') \n",
    "# my_colors = 'rgbkymc'\n",
    "ddf.head(20).plot(kind='bar')\n",
    "plt.title(\"Top 20 Word Counts in Sports Names\")\n",
    "plt.xticks(rotation=60)"
   ]
  },
  {
   "cell_type": "code",
   "execution_count": 142,
   "metadata": {},
   "outputs": [
    {
     "name": "stderr",
     "output_type": "stream",
     "text": [
      "D:\\Anaconda\\lib\\site-packages\\ipykernel_launcher.py:4: SettingWithCopyWarning: \n",
      "A value is trying to be set on a copy of a slice from a DataFrame.\n",
      "Try using .loc[row_indexer,col_indexer] = value instead\n",
      "\n",
      "See the caveats in the documentation: http://pandas.pydata.org/pandas-docs/stable/indexing.html#indexing-view-versus-copy\n",
      "  after removing the cwd from sys.path.\n",
      "D:\\Anaconda\\lib\\site-packages\\ipykernel_launcher.py:5: SettingWithCopyWarning: \n",
      "A value is trying to be set on a copy of a slice from a DataFrame.\n",
      "Try using .loc[row_indexer,col_indexer] = value instead\n",
      "\n",
      "See the caveats in the documentation: http://pandas.pydata.org/pandas-docs/stable/indexing.html#indexing-view-versus-copy\n",
      "  \"\"\"\n",
      "D:\\Anaconda\\lib\\site-packages\\ipykernel_launcher.py:6: SettingWithCopyWarning: \n",
      "A value is trying to be set on a copy of a slice from a DataFrame.\n",
      "Try using .loc[row_indexer,col_indexer] = value instead\n",
      "\n",
      "See the caveats in the documentation: http://pandas.pydata.org/pandas-docs/stable/indexing.html#indexing-view-versus-copy\n",
      "  \n",
      "D:\\Anaconda\\lib\\site-packages\\ipykernel_launcher.py:7: SettingWithCopyWarning: \n",
      "A value is trying to be set on a copy of a slice from a DataFrame.\n",
      "Try using .loc[row_indexer,col_indexer] = value instead\n",
      "\n",
      "See the caveats in the documentation: http://pandas.pydata.org/pandas-docs/stable/indexing.html#indexing-view-versus-copy\n",
      "  import sys\n"
     ]
    }
   ],
   "source": [
    "#clean data\n",
    "df_new=df1.dropna(axis='rows')\n",
    "\n",
    "df_new.reviews=df_new.reviews.str.replace(',', '')\n",
    "df_new['reviews'] = df_new['reviews'].astype(int)\n",
    "df_new['price'] = pd.to_numeric(df_new['price'])\n",
    "df_new['rank'] = pd.to_numeric(df_new['rank'])\n",
    "df_new['rating'] = pd.to_numeric(df_new['rating'])"
   ]
  },
  {
   "cell_type": "code",
   "execution_count": 143,
   "metadata": {},
   "outputs": [
    {
     "data": {
      "text/plain": [
       "<matplotlib.axes._subplots.AxesSubplot at 0x1fc0baffb00>"
      ]
     },
     "execution_count": 143,
     "metadata": {},
     "output_type": "execute_result"
    },
    {
     "data": {
      "image/png": "[encoded data removed]",
      "text/plain": [
       "<Figure size 1152x288 with 3 Axes>"
      ]
     },
     "metadata": {
      "needs_background": "light"
     },
     "output_type": "display_data"
    }
   ],
   "source": [
    "#plt.figure(figsize=(16, 8))\n",
    "fig, (ax1, ax2, ax3) = plt.subplots(1, 3, figsize=(16,4))\n",
    "fig.suptitle('Ranking Factors', size=20, y=1.02)\n",
    "\n",
    "df_new.plot(x='price', y='rank', kind='scatter', color='orange', ax=ax2)\n",
    "df_new.plot(x='reviews', y='rank', kind='scatter', color='green', ax=ax1)\n",
    "df_new.plot(x='rating',y='rank', kind='scatter', color='black', ax=ax3)"
   ]
  },
  {
   "cell_type": "code",
   "execution_count": 152,
   "metadata": {},
   "outputs": [
    {
     "name": "stdout",
     "output_type": "stream",
     "text": [
      "Training Data Count: 87\n",
      "Testing Data Count: 10\n"
     ]
    }
   ],
   "source": [
    "X = df_new[['rating', 'price','reviews']]\n",
    "y = df_new['rank']\n",
    "# reg = LinearRegression()\n",
    "# reg.fit(X, y)\n",
    "# reg.\n",
    "X_train, X_test, y_train, y_test = train_test_split(X, y, test_size = 0.1, random_state = 1)\n",
    "\n",
    "print('Training Data Count: {}'.format(X_train.shape[0]))\n",
    "print('Testing Data Count: {}'.format(X_test.shape[0]))"
   ]
  },
  {
   "cell_type": "code",
   "execution_count": 154,
   "metadata": {},
   "outputs": [
    {
     "name": "stdout",
     "output_type": "stream",
     "text": [
      "                            OLS Regression Results                            \n",
      "==============================================================================\n",
      "Dep. Variable:                   rank   R-squared:                       0.113\n",
      "Model:                            OLS   Adj. R-squared:                  0.081\n",
      "Method:                 Least Squares   F-statistic:                     3.537\n",
      "Date:                Wed, 15 Apr 2020   Prob (F-statistic):             0.0182\n",
      "Time:                        22:29:00   Log-Likelihood:                -409.96\n",
      "No. Observations:                  87   AIC:                             827.9\n",
      "Df Residuals:                      83   BIC:                             837.8\n",
      "Df Model:                           3                                         \n",
      "Covariance Type:            nonrobust                                         \n",
      "==============================================================================\n",
      "                 coef    std err          t      P>|t|      [0.025      0.975]\n",
      "------------------------------------------------------------------------------\n",
      "const        -64.7288     59.547     -1.087      0.280    -183.166      53.708\n",
      "rating        26.9599     13.162      2.048      0.044       0.781      53.139\n",
      "price          0.0823      0.102      0.806      0.422      -0.121       0.285\n",
      "reviews       -0.0015      0.001     -2.167      0.033      -0.003      -0.000\n",
      "==============================================================================\n",
      "Omnibus:                        7.443   Durbin-Watson:                   2.458\n",
      "Prob(Omnibus):                  0.024   Jarque-Bera (JB):                2.929\n",
      "Skew:                          -0.036   Prob(JB):                        0.231\n",
      "Kurtosis:                       2.104   Cond. No.                     1.42e+05\n",
      "==============================================================================\n",
      "\n",
      "Warnings:\n",
      "[1] Standard Errors assume that the covariance matrix of the errors is correctly specified.\n",
      "[2] The condition number is large, 1.42e+05. This might indicate that there are\n",
      "strong multicollinearity or other numerical problems.\n"
     ]
    }
   ],
   "source": [
    "X_train = sm.add_constant(X_train)\n",
    "results = sm.OLS(y_train, X_train).fit()\n",
    "print(results.summary())"
   ]
  },
  {
   "cell_type": "code",
   "execution_count": 146,
   "metadata": {},
   "outputs": [
    {
     "name": "stdout",
     "output_type": "stream",
     "text": [
      "                            OLS Regression Results                            \n",
      "==============================================================================\n",
      "Dep. Variable:                   rank   R-squared:                       0.101\n",
      "Model:                            OLS   Adj. R-squared:                  0.072\n",
      "Method:                 Least Squares   F-statistic:                     3.496\n",
      "Date:                Wed, 15 Apr 2020   Prob (F-statistic):             0.0187\n",
      "Time:                        21:36:57   Log-Likelihood:                -456.53\n",
      "No. Observations:                  97   AIC:                             921.1\n",
      "Df Residuals:                      93   BIC:                             931.4\n",
      "Df Model:                           3                                         \n",
      "Covariance Type:            nonrobust                                         \n",
      "==============================================================================\n",
      "                 coef    std err          t      P>|t|      [0.025      0.975]\n",
      "------------------------------------------------------------------------------\n",
      "const        -19.5558     54.897     -0.356      0.722    -128.570      89.458\n",
      "x1            -0.0018      0.001     -2.717      0.008      -0.003      -0.000\n",
      "x2             0.0883      0.100      0.879      0.382      -0.111       0.288\n",
      "x3            17.5017     12.203      1.434      0.155      -6.731      41.734\n",
      "==============================================================================\n",
      "Omnibus:                        9.074   Durbin-Watson:                   0.221\n",
      "Prob(Omnibus):                  0.011   Jarque-Bera (JB):                3.486\n",
      "Skew:                          -0.107   Prob(JB):                        0.175\n",
      "Kurtosis:                       2.096   Cond. No.                     1.33e+05\n",
      "==============================================================================\n",
      "\n",
      "Warnings:\n",
      "[1] Standard Errors assume that the covariance matrix of the errors is correctly specified.\n",
      "[2] The condition number is large, 1.33e+05. This might indicate that there are\n",
      "strong multicollinearity or other numerical problems.\n"
     ]
    }
   ],
   "source": [
    "X = np.column_stack((df_new['reviews'], df_new['price'], df_new['rating']))\n",
    "y = df_new['rank']\n",
    "X2 = sm.add_constant(X)\n",
    "est = sm.OLS(y, X2)\n",
    "est2 = est.fit()\n",
    "print(est2.summary())"
   ]
  },
  {
   "cell_type": "code",
   "execution_count": null,
   "metadata": {},
   "outputs": [],
   "source": []
  }
 ],
 "metadata": {
  "kernelspec": {
   "display_name": "Python 3",
   "language": "python",
   "name": "python3"
  },
  "language_info": {
   "codemirror_mode": {
    "name": "ipython",
    "version": 3
   },
   "file_extension": ".py",
   "mimetype": "text/x-python",
   "name": "python",
   "nbconvert_exporter": "python",
   "pygments_lexer": "ipython3",
   "version": "3.7.3"
  }
 },
 "nbformat": 4,
 "nbformat_minor": 2
}
